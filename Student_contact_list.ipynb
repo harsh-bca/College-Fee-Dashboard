{
 "cells": [
  {
   "cell_type": "code",
   "execution_count": 3,
   "id": "89b8259b",
   "metadata": {},
   "outputs": [
    {
     "name": "stdout",
     "output_type": "stream",
     "text": [
      "✅ Done! Extracted data saved to 'H:\\myzone\\student_contact_list.xlsx'\n"
     ]
    }
   ],
   "source": [
    "import requests\n",
    "from bs4 import BeautifulSoup\n",
    "import pandas as pd\n",
    "\n",
    "# Step 1: Load ERP links from Excel or CSV file\n",
    "df_links = pd.read_csv(r\"H:\\myzone\\ERP Link.csv\")  # Use raw string for Windows path\n",
    "erp_links = df_links['ERP Link'].tolist()\n",
    "\n",
    "# Step 2: Initialize a list to hold extracted data\n",
    "student_data = []\n",
    "\n",
    "# Step 3: Loop through each ERP link and extract student info\n",
    "for link in erp_links:\n",
    "    try:\n",
    "        response = requests.get(link, timeout=10)\n",
    "        soup = BeautifulSoup(response.content, 'html.parser')\n",
    "\n",
    "        # Step 4a: Extract student name from <span> with dynamic ID\n",
    "        name_tag = soup.find('span', id=lambda x: x and x.startswith('GridView4_lblName_'))\n",
    "        name = name_tag.text.strip() if name_tag else 'Not found'\n",
    "\n",
    "        # Step 4b: Extract phone and email from <td> row containing the email\n",
    "        table = soup.find('table', {'id': 'GridView4'})\n",
    "        rows = table.find_all('tr')\n",
    "        data_row = None\n",
    "\n",
    "        for row in rows:\n",
    "            tds = row.find_all('td')\n",
    "            if any('@' in td.text for td in tds):  # look for a row with an email\n",
    "                data_row = row\n",
    "                break\n",
    "\n",
    "        if data_row:\n",
    "            tds = data_row.find_all('td')\n",
    "            phone = tds[4].text.strip() if len(tds) > 4 else 'Not found'\n",
    "            alt_phone = tds[5].text.strip() if len(tds) > 5 else 'Not found'\n",
    "            email = tds[6].text.strip() if len(tds) > 6 else 'Not found'\n",
    "        else:\n",
    "            phone = alt_phone = email = 'Not found'\n",
    "\n",
    "        # Step 5: Append extracted data\n",
    "        student_data.append({\n",
    "            'ERP Link': link,\n",
    "            'Name': name,\n",
    "            'Phone': phone,\n",
    "            'Alt Phone': alt_phone,\n",
    "            'Email': email\n",
    "        })\n",
    "\n",
    "    except Exception as e:\n",
    "        print(f\"❌ Error while processing {link}: {e}\")\n",
    "        student_data.append({\n",
    "            'ERP Link': link,\n",
    "            'Name': 'Error',\n",
    "            'Phone': 'Error',\n",
    "            'Alt Phone': 'Error',\n",
    "            'Email': 'Error'\n",
    "        })\n",
    "\n",
    "# Step 6: Convert list to DataFrame and export to Excel\n",
    "df_result = pd.DataFrame(student_data)\n",
    "df_result.to_excel(r\"H:\\myzone\\student_contact_list.xlsx\", index=False)\n",
    "\n",
    "print(\"✅ Done! Extracted data saved to 'H:\\\\myzone\\\\student_contact_list.xlsx'\")\n"
   ]
  },
  {
   "cell_type": "code",
   "execution_count": 1,
   "id": "b4db7059",
   "metadata": {},
   "outputs": [
    {
     "data": {
      "text/plain": [
       "'h:\\\\myzone'"
      ]
     },
     "execution_count": 1,
     "metadata": {},
     "output_type": "execute_result"
    }
   ],
   "source": [
    "pwd\n"
   ]
  }
 ],
 "metadata": {
  "kernelspec": {
   "display_name": "Python 3",
   "language": "python",
   "name": "python3"
  },
  "language_info": {
   "codemirror_mode": {
    "name": "ipython",
    "version": 3
   },
   "file_extension": ".py",
   "mimetype": "text/x-python",
   "name": "python",
   "nbconvert_exporter": "python",
   "pygments_lexer": "ipython3",
   "version": "3.12.9"
  }
 },
 "nbformat": 4,
 "nbformat_minor": 5
}
